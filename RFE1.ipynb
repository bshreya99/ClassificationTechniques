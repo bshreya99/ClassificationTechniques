{
 "cells": [
  {
   "cell_type": "code",
   "execution_count": 1,
   "metadata": {},
   "outputs": [],
   "source": [
    "import pandas as pd\n",
    "from matplotlib import pyplot as plt\n",
    "import numpy as np\n",
    "import seaborn as sns"
   ]
  },
  {
   "cell_type": "code",
   "execution_count": 9,
   "metadata": {},
   "outputs": [],
   "source": [
    "df = pd.read_csv('income.csv')"
   ]
  },
  {
   "cell_type": "code",
   "execution_count": 10,
   "metadata": {},
   "outputs": [],
   "source": [
    "df.columns = df.columns.str.strip()"
   ]
  },
  {
   "cell_type": "code",
   "execution_count": 11,
   "metadata": {},
   "outputs": [],
   "source": [
    "df = df.drop(['education'], axis = 1)"
   ]
  },
  {
   "cell_type": "code",
   "execution_count": 12,
   "metadata": {},
   "outputs": [],
   "source": [
    "df['workclass'],_ = pd.factorize(df['workclass'])\n",
    "df['marital-status'],_ = pd.factorize(df['marital-status'])\n",
    "df['occupation'],_ = pd.factorize(df['occupation'])\n",
    "df['relationship'],_ = pd.factorize(df['relationship'])\n",
    "df['race'],_ = pd.factorize(df['race'])\n",
    "df['sex'],_ = pd.factorize(df['sex'])\n",
    "df['native-country'],_ = pd.factorize(df['native-country'])\n",
    "df['income'],_ = pd.factorize(df['income'])"
   ]
  },
  {
   "cell_type": "code",
   "execution_count": 101,
   "metadata": {},
   "outputs": [
    {
     "data": {
      "text/html": [
       "<div>\n",
       "<style scoped>\n",
       "    .dataframe tbody tr th:only-of-type {\n",
       "        vertical-align: middle;\n",
       "    }\n",
       "\n",
       "    .dataframe tbody tr th {\n",
       "        vertical-align: top;\n",
       "    }\n",
       "\n",
       "    .dataframe thead th {\n",
       "        text-align: right;\n",
       "    }\n",
       "</style>\n",
       "<table border=\"1\" class=\"dataframe\">\n",
       "  <thead>\n",
       "    <tr style=\"text-align: right;\">\n",
       "      <th></th>\n",
       "      <th>age</th>\n",
       "      <th>workclass</th>\n",
       "      <th>fnlwgt</th>\n",
       "      <th>education-num</th>\n",
       "      <th>marital-status</th>\n",
       "      <th>occupation</th>\n",
       "      <th>relationship</th>\n",
       "      <th>race</th>\n",
       "      <th>sex</th>\n",
       "      <th>capital-gain</th>\n",
       "      <th>capital-loss</th>\n",
       "      <th>hours-per-week</th>\n",
       "      <th>native-country</th>\n",
       "      <th>income</th>\n",
       "    </tr>\n",
       "  </thead>\n",
       "  <tbody>\n",
       "    <tr>\n",
       "      <th>age</th>\n",
       "      <td>1.000000</td>\n",
       "      <td>0.082380</td>\n",
       "      <td>-0.076646</td>\n",
       "      <td>0.036527</td>\n",
       "      <td>0.424606</td>\n",
       "      <td>0.017201</td>\n",
       "      <td>-0.217767</td>\n",
       "      <td>-0.040000</td>\n",
       "      <td>-0.088832</td>\n",
       "      <td>0.077674</td>\n",
       "      <td>0.057775</td>\n",
       "      <td>0.068756</td>\n",
       "      <td>-0.011572</td>\n",
       "      <td>0.234037</td>\n",
       "    </tr>\n",
       "    <tr>\n",
       "      <th>workclass</th>\n",
       "      <td>0.082380</td>\n",
       "      <td>1.000000</td>\n",
       "      <td>-0.006314</td>\n",
       "      <td>0.011343</td>\n",
       "      <td>0.035949</td>\n",
       "      <td>0.217072</td>\n",
       "      <td>0.015524</td>\n",
       "      <td>0.009359</td>\n",
       "      <td>0.019347</td>\n",
       "      <td>0.041172</td>\n",
       "      <td>0.012510</td>\n",
       "      <td>-0.028084</td>\n",
       "      <td>-0.010246</td>\n",
       "      <td>0.047203</td>\n",
       "    </tr>\n",
       "    <tr>\n",
       "      <th>fnlwgt</th>\n",
       "      <td>-0.076646</td>\n",
       "      <td>-0.006314</td>\n",
       "      <td>1.000000</td>\n",
       "      <td>-0.043195</td>\n",
       "      <td>-0.023527</td>\n",
       "      <td>0.007892</td>\n",
       "      <td>0.017142</td>\n",
       "      <td>0.000500</td>\n",
       "      <td>-0.026858</td>\n",
       "      <td>0.000432</td>\n",
       "      <td>-0.010252</td>\n",
       "      <td>-0.018768</td>\n",
       "      <td>0.035910</td>\n",
       "      <td>-0.009463</td>\n",
       "    </tr>\n",
       "    <tr>\n",
       "      <th>education-num</th>\n",
       "      <td>0.036527</td>\n",
       "      <td>0.011343</td>\n",
       "      <td>-0.043195</td>\n",
       "      <td>1.000000</td>\n",
       "      <td>-0.065996</td>\n",
       "      <td>-0.242997</td>\n",
       "      <td>-0.141075</td>\n",
       "      <td>-0.039760</td>\n",
       "      <td>-0.012280</td>\n",
       "      <td>0.122630</td>\n",
       "      <td>0.079923</td>\n",
       "      <td>0.148123</td>\n",
       "      <td>-0.066044</td>\n",
       "      <td>0.335154</td>\n",
       "    </tr>\n",
       "    <tr>\n",
       "      <th>marital-status</th>\n",
       "      <td>0.424606</td>\n",
       "      <td>0.035949</td>\n",
       "      <td>-0.023527</td>\n",
       "      <td>-0.065996</td>\n",
       "      <td>1.000000</td>\n",
       "      <td>0.006524</td>\n",
       "      <td>0.029083</td>\n",
       "      <td>0.012722</td>\n",
       "      <td>0.181870</td>\n",
       "      <td>0.004460</td>\n",
       "      <td>0.006833</td>\n",
       "      <td>-0.000277</td>\n",
       "      <td>0.001912</td>\n",
       "      <td>0.002644</td>\n",
       "    </tr>\n",
       "    <tr>\n",
       "      <th>occupation</th>\n",
       "      <td>0.017201</td>\n",
       "      <td>0.217072</td>\n",
       "      <td>0.007892</td>\n",
       "      <td>-0.242997</td>\n",
       "      <td>0.006524</td>\n",
       "      <td>1.000000</td>\n",
       "      <td>-0.016150</td>\n",
       "      <td>0.016586</td>\n",
       "      <td>-0.147779</td>\n",
       "      <td>-0.045060</td>\n",
       "      <td>-0.023963</td>\n",
       "      <td>-0.045240</td>\n",
       "      <td>0.019578</td>\n",
       "      <td>-0.104691</td>\n",
       "    </tr>\n",
       "    <tr>\n",
       "      <th>relationship</th>\n",
       "      <td>-0.217767</td>\n",
       "      <td>0.015524</td>\n",
       "      <td>0.017142</td>\n",
       "      <td>-0.141075</td>\n",
       "      <td>0.029083</td>\n",
       "      <td>-0.016150</td>\n",
       "      <td>1.000000</td>\n",
       "      <td>0.096808</td>\n",
       "      <td>0.273414</td>\n",
       "      <td>-0.044045</td>\n",
       "      <td>-0.050498</td>\n",
       "      <td>-0.184873</td>\n",
       "      <td>0.042444</td>\n",
       "      <td>-0.171294</td>\n",
       "    </tr>\n",
       "    <tr>\n",
       "      <th>race</th>\n",
       "      <td>-0.040000</td>\n",
       "      <td>0.009359</td>\n",
       "      <td>0.000500</td>\n",
       "      <td>-0.039760</td>\n",
       "      <td>0.012722</td>\n",
       "      <td>0.016586</td>\n",
       "      <td>0.096808</td>\n",
       "      <td>1.000000</td>\n",
       "      <td>0.067840</td>\n",
       "      <td>-0.007991</td>\n",
       "      <td>-0.017190</td>\n",
       "      <td>-0.033115</td>\n",
       "      <td>0.241650</td>\n",
       "      <td>-0.067713</td>\n",
       "    </tr>\n",
       "    <tr>\n",
       "      <th>sex</th>\n",
       "      <td>-0.088832</td>\n",
       "      <td>0.019347</td>\n",
       "      <td>-0.026858</td>\n",
       "      <td>-0.012280</td>\n",
       "      <td>0.181870</td>\n",
       "      <td>-0.147779</td>\n",
       "      <td>0.273414</td>\n",
       "      <td>0.067840</td>\n",
       "      <td>1.000000</td>\n",
       "      <td>-0.048480</td>\n",
       "      <td>-0.045567</td>\n",
       "      <td>-0.229309</td>\n",
       "      <td>0.005977</td>\n",
       "      <td>-0.215980</td>\n",
       "    </tr>\n",
       "    <tr>\n",
       "      <th>capital-gain</th>\n",
       "      <td>0.077674</td>\n",
       "      <td>0.041172</td>\n",
       "      <td>0.000432</td>\n",
       "      <td>0.122630</td>\n",
       "      <td>0.004460</td>\n",
       "      <td>-0.045060</td>\n",
       "      <td>-0.044045</td>\n",
       "      <td>-0.007991</td>\n",
       "      <td>-0.048480</td>\n",
       "      <td>1.000000</td>\n",
       "      <td>-0.031615</td>\n",
       "      <td>0.078409</td>\n",
       "      <td>-0.009131</td>\n",
       "      <td>0.223329</td>\n",
       "    </tr>\n",
       "    <tr>\n",
       "      <th>capital-loss</th>\n",
       "      <td>0.057775</td>\n",
       "      <td>0.012510</td>\n",
       "      <td>-0.010252</td>\n",
       "      <td>0.079923</td>\n",
       "      <td>0.006833</td>\n",
       "      <td>-0.023963</td>\n",
       "      <td>-0.050498</td>\n",
       "      <td>-0.017190</td>\n",
       "      <td>-0.045567</td>\n",
       "      <td>-0.031615</td>\n",
       "      <td>1.000000</td>\n",
       "      <td>0.054256</td>\n",
       "      <td>-0.004373</td>\n",
       "      <td>0.150526</td>\n",
       "    </tr>\n",
       "    <tr>\n",
       "      <th>hours-per-week</th>\n",
       "      <td>0.068756</td>\n",
       "      <td>-0.028084</td>\n",
       "      <td>-0.018768</td>\n",
       "      <td>0.148123</td>\n",
       "      <td>-0.000277</td>\n",
       "      <td>-0.045240</td>\n",
       "      <td>-0.184873</td>\n",
       "      <td>-0.033115</td>\n",
       "      <td>-0.229309</td>\n",
       "      <td>0.078409</td>\n",
       "      <td>0.054256</td>\n",
       "      <td>1.000000</td>\n",
       "      <td>-0.009662</td>\n",
       "      <td>0.229689</td>\n",
       "    </tr>\n",
       "    <tr>\n",
       "      <th>native-country</th>\n",
       "      <td>-0.011572</td>\n",
       "      <td>-0.010246</td>\n",
       "      <td>0.035910</td>\n",
       "      <td>-0.066044</td>\n",
       "      <td>0.001912</td>\n",
       "      <td>0.019578</td>\n",
       "      <td>0.042444</td>\n",
       "      <td>0.241650</td>\n",
       "      <td>0.005977</td>\n",
       "      <td>-0.009131</td>\n",
       "      <td>-0.004373</td>\n",
       "      <td>-0.009662</td>\n",
       "      <td>1.000000</td>\n",
       "      <td>-0.028478</td>\n",
       "    </tr>\n",
       "    <tr>\n",
       "      <th>income</th>\n",
       "      <td>0.234037</td>\n",
       "      <td>0.047203</td>\n",
       "      <td>-0.009463</td>\n",
       "      <td>0.335154</td>\n",
       "      <td>0.002644</td>\n",
       "      <td>-0.104691</td>\n",
       "      <td>-0.171294</td>\n",
       "      <td>-0.067713</td>\n",
       "      <td>-0.215980</td>\n",
       "      <td>0.223329</td>\n",
       "      <td>0.150526</td>\n",
       "      <td>0.229689</td>\n",
       "      <td>-0.028478</td>\n",
       "      <td>1.000000</td>\n",
       "    </tr>\n",
       "  </tbody>\n",
       "</table>\n",
       "</div>"
      ],
      "text/plain": [
       "                     age  workclass    fnlwgt  education-num  marital-status  \\\n",
       "age             1.000000   0.082380 -0.076646       0.036527        0.424606   \n",
       "workclass       0.082380   1.000000 -0.006314       0.011343        0.035949   \n",
       "fnlwgt         -0.076646  -0.006314  1.000000      -0.043195       -0.023527   \n",
       "education-num   0.036527   0.011343 -0.043195       1.000000       -0.065996   \n",
       "marital-status  0.424606   0.035949 -0.023527      -0.065996        1.000000   \n",
       "occupation      0.017201   0.217072  0.007892      -0.242997        0.006524   \n",
       "relationship   -0.217767   0.015524  0.017142      -0.141075        0.029083   \n",
       "race           -0.040000   0.009359  0.000500      -0.039760        0.012722   \n",
       "sex            -0.088832   0.019347 -0.026858      -0.012280        0.181870   \n",
       "capital-gain    0.077674   0.041172  0.000432       0.122630        0.004460   \n",
       "capital-loss    0.057775   0.012510 -0.010252       0.079923        0.006833   \n",
       "hours-per-week  0.068756  -0.028084 -0.018768       0.148123       -0.000277   \n",
       "native-country -0.011572  -0.010246  0.035910      -0.066044        0.001912   \n",
       "income          0.234037   0.047203 -0.009463       0.335154        0.002644   \n",
       "\n",
       "                occupation  relationship      race       sex  capital-gain  \\\n",
       "age               0.017201     -0.217767 -0.040000 -0.088832      0.077674   \n",
       "workclass         0.217072      0.015524  0.009359  0.019347      0.041172   \n",
       "fnlwgt            0.007892      0.017142  0.000500 -0.026858      0.000432   \n",
       "education-num    -0.242997     -0.141075 -0.039760 -0.012280      0.122630   \n",
       "marital-status    0.006524      0.029083  0.012722  0.181870      0.004460   \n",
       "occupation        1.000000     -0.016150  0.016586 -0.147779     -0.045060   \n",
       "relationship     -0.016150      1.000000  0.096808  0.273414     -0.044045   \n",
       "race              0.016586      0.096808  1.000000  0.067840     -0.007991   \n",
       "sex              -0.147779      0.273414  0.067840  1.000000     -0.048480   \n",
       "capital-gain     -0.045060     -0.044045 -0.007991 -0.048480      1.000000   \n",
       "capital-loss     -0.023963     -0.050498 -0.017190 -0.045567     -0.031615   \n",
       "hours-per-week   -0.045240     -0.184873 -0.033115 -0.229309      0.078409   \n",
       "native-country    0.019578      0.042444  0.241650  0.005977     -0.009131   \n",
       "income           -0.104691     -0.171294 -0.067713 -0.215980      0.223329   \n",
       "\n",
       "                capital-loss  hours-per-week  native-country    income  \n",
       "age                 0.057775        0.068756       -0.011572  0.234037  \n",
       "workclass           0.012510       -0.028084       -0.010246  0.047203  \n",
       "fnlwgt             -0.010252       -0.018768        0.035910 -0.009463  \n",
       "education-num       0.079923        0.148123       -0.066044  0.335154  \n",
       "marital-status      0.006833       -0.000277        0.001912  0.002644  \n",
       "occupation         -0.023963       -0.045240        0.019578 -0.104691  \n",
       "relationship       -0.050498       -0.184873        0.042444 -0.171294  \n",
       "race               -0.017190       -0.033115        0.241650 -0.067713  \n",
       "sex                -0.045567       -0.229309        0.005977 -0.215980  \n",
       "capital-gain       -0.031615        0.078409       -0.009131  0.223329  \n",
       "capital-loss        1.000000        0.054256       -0.004373  0.150526  \n",
       "hours-per-week      0.054256        1.000000       -0.009662  0.229689  \n",
       "native-country     -0.004373       -0.009662        1.000000 -0.028478  \n",
       "income              0.150526        0.229689       -0.028478  1.000000  "
      ]
     },
     "execution_count": 101,
     "metadata": {},
     "output_type": "execute_result"
    }
   ],
   "source": [
    "corr = df.corr()\n",
    "corr"
   ]
  },
  {
   "cell_type": "code",
   "execution_count": 102,
   "metadata": {},
   "outputs": [
    {
     "data": {
      "text/plain": [
       "<matplotlib.axes._subplots.AxesSubplot at 0x1d3a27165c0>"
      ]
     },
     "execution_count": 102,
     "metadata": {},
     "output_type": "execute_result"
    },
    {
     "data": {
      "image/png": "[encoded data removed]",
      "text/plain": [
       "<Figure size 432x288 with 2 Axes>"
      ]
     },
     "metadata": {
      "needs_background": "light"
     },
     "output_type": "display_data"
    }
   ],
   "source": [
    "sns.heatmap(corr)"
   ]
  },
  {
   "cell_type": "code",
   "execution_count": 106,
   "metadata": {},
   "outputs": [],
   "source": [
    "col = np.full((corr.shape[0],), True, dtype = bool)\n",
    "for i in range(corr.shape[0]) :\n",
    "    for j in range(i + 1, corr.shape[0]):\n",
    "        if corr.iloc[i, j] >= 0.9 :\n",
    "            if col[j] :\n",
    "                col[j] = False\n",
    "columns = df.columns[col]\n",
    "df = df[columns]"
   ]
  },
  {
   "cell_type": "code",
   "execution_count": 107,
   "metadata": {},
   "outputs": [
    {
     "data": {
      "text/plain": [
       "array(['age', 'workclass', 'fnlwgt', 'education-num', 'marital-status',\n",
       "       'occupation', 'relationship', 'race', 'sex', 'capital-gain',\n",
       "       'capital-loss', 'hours-per-week', 'native-country'], dtype=object)"
      ]
     },
     "execution_count": 107,
     "metadata": {},
     "output_type": "execute_result"
    }
   ],
   "source": [
    "columns = columns[:13].values\n",
    "columns"
   ]
  },
  {
   "cell_type": "code",
   "execution_count": 108,
   "metadata": {},
   "outputs": [
    {
     "name": "stdout",
     "output_type": "stream",
     "text": [
      "[ True False  True  True  True False False False False  True False  True\n",
      " False]\n",
      "[1 4 1 1 1 2 8 6 7 1 3 1 5]\n"
     ]
    }
   ],
   "source": [
    "from sklearn.model_selection import train_test_split\n",
    "from sklearn.feature_selection import RFE\n",
    "X,y = df.drop(['income'], axis = 1),df['income'] \n",
    "X_train, X_test, y_train, y_test = train_test_split(X, y, test_size = .15, random_state = 17)\n",
    "from sklearn.tree import DecisionTreeClassifier\n",
    "tree = DecisionTreeClassifier(random_state = 17)\n",
    "rfe = RFE(tree, )\n",
    "rfe = rfe.fit(X,y)\n",
    "print(rfe.support_)\n",
    "print(rfe.ranking_)"
   ]
  },
  {
   "cell_type": "code",
   "execution_count": 109,
   "metadata": {},
   "outputs": [
    {
     "name": "stdout",
     "output_type": "stream",
     "text": [
      "[ True  True  True  True  True  True  True  True  True  True  True  True\n",
      "  True]\n",
      "[1 1 1 1 1 1 1 1 1 1 1 1 1]\n"
     ]
    }
   ],
   "source": [
    "from sklearn.feature_selection import RFECV\n",
    "rfecv = RFECV(tree,cv = 5)\n",
    "rfecv = rfecv.fit(X,y)\n",
    "print(rfecv.support_)\n",
    "print(rfecv.ranking_)"
   ]
  },
  {
   "cell_type": "code",
   "execution_count": 10,
   "metadata": {},
   "outputs": [
    {
     "name": "stdout",
     "output_type": "stream",
     "text": [
      "[ True False  True  True  True  True False False False  True  True  True\n",
      " False]\n",
      "[1 2 1 1 1 1 6 4 5 1 1 1 3]\n"
     ]
    }
   ],
   "source": [
    "### Selected Features\n",
    "from sklearn.model_selection import train_test_split\n",
    "X,y = df.drop(['income'], axis = 1),df['income'] \n",
    "X_train, X_test, y_train, y_test = train_test_split(X, y, test_size = .15, random_state = 17)\n",
    "\n",
    "from sklearn.tree import DecisionTreeClassifier\n",
    "tree = DecisionTreeClassifier(random_state = 17)\n",
    "\n",
    "from sklearn.feature_selection import RFECV\n",
    "rfecv = RFECV(tree,cv = 3)\n",
    "rfecv = rfecv.fit(X,y)\n",
    "print(rfecv.support_)\n",
    "print(rfecv.ranking_)"
   ]
  },
  {
   "cell_type": "code",
   "execution_count": null,
   "metadata": {},
   "outputs": [],
   "source": [
    "## Distribution\n",
    "#df = df.drop(['income', 'workclass', 'relationship', 'race', 'sex','native-country'], axis = 1)\n",
    "plt.hist(df)"
   ]
  },
  {
   "cell_type": "code",
   "execution_count": 111,
   "metadata": {},
   "outputs": [
    {
     "name": "stdout",
     "output_type": "stream",
     "text": [
      "[ True  True  True  True  True  True False False False  True  True  True\n",
      " False]\n",
      "[1 1 1 1 1 1 5 3 4 1 1 1 2]\n"
     ]
    }
   ],
   "source": [
    "from sklearn.feature_selection import RFECV\n",
    "rfecv = RFECV(tree,cv = 6)\n",
    "rfecv = rfecv.fit(X,y)\n",
    "print(rfecv.support_)\n",
    "print(rfecv.ranking_)"
   ]
  },
  {
   "cell_type": "code",
   "execution_count": 114,
   "metadata": {},
   "outputs": [],
   "source": [
    "import statsmodels.formula.api as sm\n",
    "def backwardElimination(X, y, sl, columns):\n",
    "    numVars = len(X[0])\n",
    "    for i in range(0, numVars):\n",
    "        regressor_OLS = sm.OLS(y, X).fit()\n",
    "        maxVar = max(regressor_OLS.pvalues).astype(float)\n",
    "        if maxVar > sl:\n",
    "            for j in range(0, numVars - i):\n",
    "                if (regressor_OLS.pvalues[j].astype(float) == maxVar):\n",
    "                    X = np.delete(X, j, 1)\n",
    "                    columns = np.delete(columns, j)\n",
    "                    \n",
    "    regressor_OLS.summary()\n",
    "    return X, columns\n",
    "SL = 0.05\n",
    "data_modeled, columns = backwardElimination(df.iloc[:,1:].values, df.iloc[:,0].values, SL, columns)"
   ]
  },
  {
   "cell_type": "code",
   "execution_count": 115,
   "metadata": {},
   "outputs": [
    {
     "data": {
      "text/plain": [
       "array(['age', 'workclass', 'fnlwgt', 'education-num', 'marital-status',\n",
       "       'occupation', 'capital-gain', 'hours-per-week', 'native-country'],\n",
       "      dtype=object)"
      ]
     },
     "execution_count": 115,
     "metadata": {},
     "output_type": "execute_result"
    }
   ],
   "source": [
    "columns"
   ]
  },
  {
   "cell_type": "code",
   "execution_count": null,
   "metadata": {},
   "outputs": [],
   "source": []
  }
 ],
 "metadata": {
  "kernelspec": {
   "display_name": "Python 3",
   "language": "python",
   "name": "python3"
  },
  "language_info": {
   "codemirror_mode": {
    "name": "ipython",
    "version": 3
   },
   "file_extension": ".py",
   "mimetype": "text/x-python",
   "name": "python",
   "nbconvert_exporter": "python",
   "pygments_lexer": "ipython3",
   "version": "3.7.3"
  }
 },
 "nbformat": 4,
 "nbformat_minor": 2
}
